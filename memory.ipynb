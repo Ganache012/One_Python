{
 "cells": [
  {
   "cell_type": "markdown",
   "metadata": {},
   "source": [
    "## 메모리 주소 알아내기"
   ]
  },
  {
   "cell_type": "code",
   "execution_count": 1,
   "metadata": {},
   "outputs": [
    {
     "data": {
      "text/plain": [
       "140449937925312"
      ]
     },
     "execution_count": 1,
     "metadata": {},
     "output_type": "execute_result"
    }
   ],
   "source": [
    "# ex)\n",
    "id(2)"
   ]
  },
  {
   "cell_type": "code",
   "execution_count": 2,
   "metadata": {},
   "outputs": [
    {
     "data": {
      "text/plain": [
       "'0x7fbd0ca8a4c0'"
      ]
     },
     "execution_count": 2,
     "metadata": {},
     "output_type": "execute_result"
    }
   ],
   "source": [
    "#16진법\n",
    "hex(id(2))"
   ]
  },
  {
   "cell_type": "markdown",
   "metadata": {},
   "source": [
    "## 메모리 잘 쓰는 방법"
   ]
  },
  {
   "cell_type": "code",
   "execution_count": 4,
   "metadata": {},
   "outputs": [
    {
     "name": "stdout",
     "output_type": "stream",
     "text": [
      "0.1556236743927002\n"
     ]
    }
   ],
   "source": [
    "# ex) 최악의 메모리 사용법\n",
    "import time\n",
    "\n",
    "start_time = time.time()\n",
    "a = list(range(100000))\n",
    "a2 = list()\n",
    "\n",
    "for i in a:\n",
    "    a2.append(i*2)\n",
    "    \n",
    "end_time = time.time()\n",
    "fin = end_time - start_time\n",
    "print(fin)"
   ]
  },
  {
   "cell_type": "code",
   "execution_count": 7,
   "metadata": {},
   "outputs": [
    {
     "name": "stdout",
     "output_type": "stream",
     "text": [
      "0.01975083351135254\n"
     ]
    }
   ],
   "source": [
    "# 좀 더 나은 방식:comprehension\n",
    "import time\n",
    "\n",
    "start_time = time.time()\n",
    "temp = [x*2 for x in range(100000)]\n",
    "end_time = time.time()\n",
    "fin = end_time - start_time\n",
    "print(fin)"
   ]
  },
  {
   "cell_type": "code",
   "execution_count": 8,
   "metadata": {},
   "outputs": [
    {
     "name": "stdout",
     "output_type": "stream",
     "text": [
      "0.023606538772583008\n"
     ]
    }
   ],
   "source": [
    "# 최고의 방식: map()이용\n",
    "import time\n",
    "\n",
    "start_time = time.time()\n",
    "a = list(range(100000))\n",
    "a2 = map(lambda n:n*2, a)\n",
    "end_time = time.time()\n",
    "\n",
    "fin = end_time - start_time\n",
    "print(fin)"
   ]
  }
 ],
 "metadata": {
  "kernelspec": {
   "display_name": "Python 3",
   "language": "python",
   "name": "python3"
  },
  "language_info": {
   "codemirror_mode": {
    "name": "ipython",
    "version": 3
   },
   "file_extension": ".py",
   "mimetype": "text/x-python",
   "name": "python",
   "nbconvert_exporter": "python",
   "pygments_lexer": "ipython3",
   "version": "3.7.4"
  }
 },
 "nbformat": 4,
 "nbformat_minor": 2
}
