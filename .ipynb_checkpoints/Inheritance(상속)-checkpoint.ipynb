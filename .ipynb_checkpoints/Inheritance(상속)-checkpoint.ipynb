{
 "cells": [
  {
   "cell_type": "markdown",
   "metadata": {},
   "source": [
    "# 부모 class"
   ]
  },
  {
   "cell_type": "code",
   "execution_count": 1,
   "metadata": {},
   "outputs": [],
   "source": [
    "class Car:\n",
    "    kind = \"Sedan\"\n",
    "    coutOfDoor = 5\n",
    "    \n",
    "    def __init__(self, str):\n",
    "        self.name = str\n",
    "        \n",
    "    def sethorsepower(self, str): #setter\n",
    "        self.horsepower = str\n",
    "        \n",
    "    def driving(self, str):\n",
    "        print(\"%s로 운전 중입니다.\"%(str))"
   ]
  },
  {
   "cell_type": "markdown",
   "metadata": {},
   "source": [
    "## 상속받기"
   ]
  },
  {
   "cell_type": "code",
   "execution_count": 5,
   "metadata": {},
   "outputs": [],
   "source": [
    "class Car_nextGeneration(Car): #Car 클래스를 상속받는다.\n",
    "    autoPilot = True\n",
    "    countOfAirbag = 10;\n",
    "    \n",
    "    def setwheelSize(self, str):\n",
    "        self.wheelSize = str\n",
    "        \n",
    "    def driving(self, str): #new method\n",
    "        print(\"%s(으)로 자동 운전 중입니다\"%(str))\n",
    "        \n",
    "    def turnning(self, num): #new method\n",
    "        self.turnninghorsepower = self.horsepower + num\n",
    "        return self.turnninghorsepower"
   ]
  },
  {
   "cell_type": "markdown",
   "metadata": {},
   "source": [
    "## 객체 만들기"
   ]
  },
  {
   "cell_type": "code",
   "execution_count": 3,
   "metadata": {},
   "outputs": [
    {
     "name": "stdout",
     "output_type": "stream",
     "text": [
      "서울로 운전 중입니다.\n"
     ]
    }
   ],
   "source": [
    "toch = Car(\"touch\")\n",
    "toch.horsepower = 120\n",
    "toch.driving('서울')"
   ]
  },
  {
   "cell_type": "code",
   "execution_count": 6,
   "metadata": {},
   "outputs": [
    {
     "name": "stdout",
     "output_type": "stream",
     "text": [
      "인천(으)로 자동 운전 중입니다\n"
     ]
    }
   ],
   "source": [
    "# 새롭게 추가된 메서드 사용\n",
    "Mbbang = Car_nextGeneration(\"Mbbang\")\n",
    "Mbbang.horsepower = 300\n",
    "Mbbang.wheelSize = 20\n",
    "Mbbang.turnning(200)\n",
    "Mbbang.driving(\"인천\")"
   ]
  },
  {
   "cell_type": "markdown",
   "metadata": {},
   "source": [
    "# SETTER & GETTER"
   ]
  },
  {
   "cell_type": "code",
   "execution_count": 7,
   "metadata": {},
   "outputs": [],
   "source": [
    "# setter, getter 기본: 은닉x\n",
    "class Car:\n",
    "    def __init__(self, t):\n",
    "        self.horsepower = t\n",
    "    \n",
    "    def gethorsepower(self):\n",
    "        return self.horsepower\n",
    "    \n",
    "    def sethorsepower(self):\n",
    "        self.horsepower = str"
   ]
  },
  {
   "cell_type": "code",
   "execution_count": 9,
   "metadata": {},
   "outputs": [],
   "source": [
    "# getter, setter :은닉O\n",
    "class Car:\n",
    "    def __init__(self):\n",
    "        self._horsepower = 100\n",
    "        \n",
    "    @property\n",
    "    def horsepower(self):\n",
    "        return self._horsepower\n",
    "    \n",
    "    @horsepower.setter\n",
    "    def horsepower(self, str):\n",
    "        self._horsepower = str"
   ]
  },
  {
   "cell_type": "code",
   "execution_count": null,
   "metadata": {},
   "outputs": [],
   "source": []
  }
 ],
 "metadata": {
  "kernelspec": {
   "display_name": "Python 3",
   "language": "python",
   "name": "python3"
  },
  "language_info": {
   "codemirror_mode": {
    "name": "ipython",
    "version": 3
   },
   "file_extension": ".py",
   "mimetype": "text/x-python",
   "name": "python",
   "nbconvert_exporter": "python",
   "pygments_lexer": "ipython3",
   "version": "3.7.4"
  }
 },
 "nbformat": 4,
 "nbformat_minor": 2
}
