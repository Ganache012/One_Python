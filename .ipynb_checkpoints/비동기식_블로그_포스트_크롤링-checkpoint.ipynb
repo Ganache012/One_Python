{
 "cells": [
  {
   "cell_type": "code",
   "execution_count": 1,
   "metadata": {},
   "outputs": [
    {
     "name": "stdout",
     "output_type": "stream",
     "text": [
      "1.38초 걸렸습니다.\n"
     ]
    }
   ],
   "source": [
    "import nest_asyncio\n",
    "import requests\n",
    "import asyncio\n",
    "from bs4 import BeautifulSoup\n",
    "import time\n",
    "\n",
    "nest_asyncio.apply()\n",
    "s = time.time()\n",
    "results = []\n",
    "\n",
    "#---------------------------------------A파트-----------------------------------------------------------------------(세번째 실행)\n",
    "async def getpage(url):\n",
    "    req = await loop.run_in_executor(None, requests.get, url)\n",
    "    html = req.text\n",
    "    soup = await loop.run_in_executor(None, BeautifulSoup, html, 'lxml')\n",
    "    \n",
    "    return soup\n",
    "\n",
    "#------------------------------------B파트--------------------------------------------------------------------------(두번째 실행)\n",
    "async def main():\n",
    "    urls = [\"https://wp.me/p9x2W1-x\",\n",
    "            \"https://wp.me/p9x2W1-w\",\n",
    "            \"https://wp.me/p9x2W1-t\",\n",
    "            \"https://wp.me/p9x2W1-q\",\n",
    "            \"https://wp.me/p9x2W1-p\",\n",
    "            \"https://wp.me/p9x2W1-j\",\n",
    "            \"https://wp.me/p9x2W1-h\"]\n",
    "    \n",
    "    fts = [asyncio.ensure_future(getpage(u)) for u in urls]\n",
    "    r = await asyncio.gather(*fts)\n",
    "    global results\n",
    "    results = r\n",
    "\n",
    "#------------------------------------C파트---------------------------------------------------------------------------(세번째 실행)\n",
    "loop = asyncio.get_event_loop()\n",
    "loop.run_until_complete(main())\n",
    "loop.close\n",
    "e = time.time()\n",
    "\n",
    "print(\"{0:.2f}초 걸렸습니다.\".format(e - s))"
   ]
  },
  {
   "cell_type": "code",
   "execution_count": null,
   "metadata": {},
   "outputs": [],
   "source": []
  }
 ],
 "metadata": {
  "kernelspec": {
   "display_name": "Python 3",
   "language": "python",
   "name": "python3"
  },
  "language_info": {
   "codemirror_mode": {
    "name": "ipython",
    "version": 3
   },
   "file_extension": ".py",
   "mimetype": "text/x-python",
   "name": "python",
   "nbconvert_exporter": "python",
   "pygments_lexer": "ipython3",
   "version": "3.7.4"
  }
 },
 "nbformat": 4,
 "nbformat_minor": 2
}
