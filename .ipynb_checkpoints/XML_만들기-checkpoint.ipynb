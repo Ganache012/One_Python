{
 "cells": [
  {
   "cell_type": "code",
   "execution_count": 1,
   "metadata": {},
   "outputs": [
    {
     "name": "stdout",
     "output_type": "stream",
     "text": [
      "<first>안녕:)</first>\n"
     ]
    }
   ],
   "source": [
    "# 노드 만들기\n",
    "# Element(): Node를 만들고, dump(): 변수 저장 함수\n",
    "from xml.etree.ElementTree import Element, dump\n",
    "\n",
    "node1 = Element(\"first\")\n",
    "node1.text =\"안녕:)\"\n",
    "dump(node1)"
   ]
  },
  {
   "cell_type": "code",
   "execution_count": 3,
   "metadata": {},
   "outputs": [
    {
     "name": "stdout",
     "output_type": "stream",
     "text": [
      "<xml><first>안녕:)</first><second>Hello:D</second></xml>\n"
     ]
    }
   ],
   "source": [
    "#노드에 노드 추가\n",
    "from xml.etree.ElementTree import Element, dump\n",
    "\n",
    "root = Element(\"xml\")\n",
    "node1 = Element(\"first\")\n",
    "node1.text = \"안녕:)\"\n",
    "root.append(node1)\n",
    "\n",
    "node2 = Element(\"second\")\n",
    "node2.text = \"Hello:D\"\n",
    "root.append(node2)\n",
    "\n",
    "dump(root)\n",
    "# 어떤 노드 밑으로 노드를 붙이려면 append() 함수를 이용한다."
   ]
  },
  {
   "cell_type": "code",
   "execution_count": 5,
   "metadata": {},
   "outputs": [
    {
     "name": "stdout",
     "output_type": "stream",
     "text": [
      "<xml kind=\"language\"><first>안녕:)</first><second>Hello:D</second></xml>\n"
     ]
    }
   ],
   "source": [
    "# 속성 추가하기\n",
    "from xml.etree.ElementTree import Element, dump\n",
    "\n",
    "root = Element(\"xml\", kind=\"language\")\n",
    "\n",
    "node1 = Element(\"first\")\n",
    "node1.text = \"안녕:)\"\n",
    "root.append(node1)\n",
    "\n",
    "node2 = Element(\"second\")\n",
    "node2.text = \"Hello:D\"\n",
    "root.append(node2)\n",
    "dump(root)\n",
    "\n",
    "#Element() 함수에 인자를 추가하면 해당 노드의 속성으로 추가된다."
   ]
  },
  {
   "cell_type": "code",
   "execution_count": 13,
   "metadata": {},
   "outputs": [
    {
     "name": "stdout",
     "output_type": "stream",
     "text": [
      "<xml kind=\"language\">\n",
      " <first>안녕</first>\n",
      " <second>Hello</second>\n",
      "</xml>\n"
     ]
    }
   ],
   "source": [
    "# 보기 좋게 xml 만들기\n",
    "from xml.etree.ElementTree import Element, dump\n",
    "\n",
    "root = Element(\"xml\", kind = \"language\")\n",
    "\n",
    "node1 = Element(\"first\")\n",
    "node1.text = \"안녕\"\n",
    "root.append(node1)\n",
    "\n",
    "node2 = Element(\"second\")\n",
    "node2.text = \"Hello\"\n",
    "root.append(node2)\n",
    "\n",
    "def indent(elem, level = 0):\n",
    "    i = '\\n' + level*\" \"\n",
    "    if len(elem):\n",
    "        if not elem.text or not elem.text.strip():\n",
    "            elem.text = i + \" \"\n",
    "        if not elem.tail or not elem.tail.strip():\n",
    "            elem.tail = i\n",
    "        for elem in elem:\n",
    "            indent(elem, level+1)\n",
    "        if not elem.tail or not elem.tail.strip():\n",
    "            elem.tail = i\n",
    "    else:\n",
    "        if level and (not elem.tail or not elem.tail.strip()):\n",
    "            elem.tail = i\n",
    "\n",
    "indent(root)\n",
    "dump(root)"
   ]
  },
  {
   "cell_type": "code",
   "execution_count": 14,
   "metadata": {},
   "outputs": [
    {
     "ename": "NameError",
     "evalue": "name 'note' is not defined",
     "output_type": "error",
     "traceback": [
      "\u001b[0;31m---------------------------------------------------------------------------\u001b[0m",
      "\u001b[0;31mNameError\u001b[0m                                 Traceback (most recent call last)",
      "\u001b[0;32m<ipython-input-14-d9ca02282095>\u001b[0m in \u001b[0;36m<module>\u001b[0;34m\u001b[0m\n\u001b[1;32m      3\u001b[0m \u001b[0;32mfrom\u001b[0m \u001b[0mxml\u001b[0m\u001b[0;34m.\u001b[0m\u001b[0metree\u001b[0m\u001b[0;34m.\u001b[0m\u001b[0mElementTree\u001b[0m \u001b[0;32mimport\u001b[0m \u001b[0mElementTree\u001b[0m\u001b[0;34m\u001b[0m\u001b[0;34m\u001b[0m\u001b[0m\n\u001b[1;32m      4\u001b[0m \u001b[0;34m\u001b[0m\u001b[0m\n\u001b[0;32m----> 5\u001b[0;31m \u001b[0mElementTree\u001b[0m\u001b[0;34m(\u001b[0m\u001b[0mnote\u001b[0m\u001b[0;34m)\u001b[0m\u001b[0;34m.\u001b[0m\u001b[0mwrite\u001b[0m\u001b[0;34m(\u001b[0m\u001b[0;34m\"note.xml\"\u001b[0m\u001b[0;34m)\u001b[0m\u001b[0;34m\u001b[0m\u001b[0;34m\u001b[0m\u001b[0m\n\u001b[0m",
      "\u001b[0;31mNameError\u001b[0m: name 'note' is not defined"
     ]
    }
   ],
   "source": [
    "#xml 파일로 쓰기\n",
    "#?????웨 않된뒈?\n",
    "\n",
    "from xml.etree.ElementTree import ElementTree\n",
    "\n",
    "ElementTree(note).write(\"note.xml\")"
   ]
  },
  {
   "cell_type": "markdown",
   "metadata": {},
   "source": [
    "## XML 파일 파싱"
   ]
  },
  {
   "cell_type": "code",
   "execution_count": null,
   "metadata": {},
   "outputs": [],
   "source": [
    "from xml.etree.ElementTree import parse\n",
    "\n",
    "tree = parse('test.xml')\n",
    "root = tree.getroot()\n",
    "\n",
    "student = root.findall(\"student\")\n",
    "\n",
    "name = [x.findtext(\"name\") for x in ]"
   ]
  }
 ],
 "metadata": {
  "kernelspec": {
   "display_name": "Python 3",
   "language": "python",
   "name": "python3"
  },
  "language_info": {
   "codemirror_mode": {
    "name": "ipython",
    "version": 3
   },
   "file_extension": ".py",
   "mimetype": "text/x-python",
   "name": "python",
   "nbconvert_exporter": "python",
   "pygments_lexer": "ipython3",
   "version": "3.7.4"
  }
 },
 "nbformat": 4,
 "nbformat_minor": 2
}
