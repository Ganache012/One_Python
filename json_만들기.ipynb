{
 "cells": [
  {
   "cell_type": "code",
   "execution_count": 1,
   "metadata": {},
   "outputs": [],
   "source": [
    "import json\n",
    "from collections import OrderedDict\n",
    "\n",
    "group = OrderedDict()\n",
    "group[\"student1\"] = {'name':'peter', 'age':24}\n",
    "\n",
    "with open('test.json', 'w') as f:\n",
    "    json.dump(group, f, ensure_ascii=False, indent=\"\\t\")"
   ]
  },
  {
   "cell_type": "code",
   "execution_count": 2,
   "metadata": {},
   "outputs": [
    {
     "name": "stdout",
     "output_type": "stream",
     "text": [
      "{\n",
      "\t\"student1\": {\n",
      "\t\t\"name\": \"peter\",\n",
      "\t\t\"age\": 24\n",
      "\t}\n",
      "}\n"
     ]
    }
   ],
   "source": [
    "print(json.dumps(group, ensure_ascii=False, indent=\"\\t\"))"
   ]
  },
  {
   "cell_type": "markdown",
   "metadata": {},
   "source": [
    "## 좀 더 복잡한 json 만들기"
   ]
  },
  {
   "cell_type": "code",
   "execution_count": 3,
   "metadata": {},
   "outputs": [],
   "source": [
    "import json\n",
    "from collections import OrderedDict\n",
    "\n",
    "group = OrderedDict()\n",
    "score = OrderedDict()\n",
    "\n",
    "group[\"student1\"] = {'name':'peter', 'age':24}\n",
    "group[\"student2\"] = {'name': 'elgar', 'age': 21, 'score': 80}\n",
    "group[\"student3\"] = {'name': 'hong', 'age': 36, 'score': 80}\n",
    "\n",
    "score['math'] = 80\n",
    "score['english'] = 97\n",
    "\n",
    "group['student1']['score'] = score\n",
    "\n",
    "with open('test.json', 'w')as f:\n",
    "    json.dump(group, f, ensure_ascii=False, indent=\"\\t\")"
   ]
  },
  {
   "cell_type": "code",
   "execution_count": 4,
   "metadata": {},
   "outputs": [
    {
     "name": "stdout",
     "output_type": "stream",
     "text": [
      "{\n",
      "\t\"student1\": {\n",
      "\t\t\"name\": \"peter\",\n",
      "\t\t\"age\": 24,\n",
      "\t\t\"score\": {\n",
      "\t\t\t\"math\": 80,\n",
      "\t\t\t\"english\": 97\n",
      "\t\t}\n",
      "\t},\n",
      "\t\"student2\": {\n",
      "\t\t\"name\": \"elgar\",\n",
      "\t\t\"age\": 21,\n",
      "\t\t\"score\": 80\n",
      "\t},\n",
      "\t\"student3\": {\n",
      "\t\t\"name\": \"hong\",\n",
      "\t\t\"age\": 36,\n",
      "\t\t\"score\": 80\n",
      "\t}\n",
      "}\n"
     ]
    }
   ],
   "source": [
    "print(json.dumps(group, ensure_ascii=False, indent=\"\\t\"))"
   ]
  },
  {
   "cell_type": "markdown",
   "metadata": {},
   "source": [
    "## json 파싱\n",
    "- load() 이용 : json모듈에 속함"
   ]
  },
  {
   "cell_type": "code",
   "execution_count": 5,
   "metadata": {},
   "outputs": [
    {
     "name": "stdout",
     "output_type": "stream",
     "text": [
      "OrderedDict([('student1',\n",
      "              OrderedDict([('name', 'peter'),\n",
      "                           ('age', 24),\n",
      "                           ('score',\n",
      "                            OrderedDict([('math', 80), ('english', 97)]))])),\n",
      "             ('student2',\n",
      "              OrderedDict([('name', 'elgar'), ('age', 21), ('score', 80)])),\n",
      "             ('student3',\n",
      "              OrderedDict([('name', 'hong'), ('age', 36), ('score', 80)]))])\n"
     ]
    }
   ],
   "source": [
    "import json\n",
    "from collections import OrderedDict\n",
    "from pprint import pprint # json을 좀 더 보기 편하게 출력\n",
    "\n",
    "with open('test.json', 'r') as f:\n",
    "    data = json.load(f, object_pairs_hook = OrderedDict)\n",
    "\n",
    "pprint(data)"
   ]
  },
  {
   "cell_type": "code",
   "execution_count": null,
   "metadata": {},
   "outputs": [],
   "source": []
  }
 ],
 "metadata": {
  "kernelspec": {
   "display_name": "Python 3",
   "language": "python",
   "name": "python3"
  },
  "language_info": {
   "codemirror_mode": {
    "name": "ipython",
    "version": 3
   },
   "file_extension": ".py",
   "mimetype": "text/x-python",
   "name": "python",
   "nbconvert_exporter": "python",
   "pygments_lexer": "ipython3",
   "version": "3.7.4"
  }
 },
 "nbformat": 4,
 "nbformat_minor": 2
}
