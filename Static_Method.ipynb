{
 "cells": [
  {
   "cell_type": "markdown",
   "metadata": {},
   "source": [
    "## Static Method를 지원하는 방법\n",
    "- @staticmethod\n",
    "- @classmethod"
   ]
  },
  {
   "cell_type": "code",
   "execution_count": 1,
   "metadata": {},
   "outputs": [
    {
     "name": "stdout",
     "output_type": "stream",
     "text": [
      "20\n"
     ]
    }
   ],
   "source": [
    "# staticmethod\n",
    "class hello:\n",
    "    num = 10\n",
    "    \n",
    "    @staticmethod\n",
    "    def calc(x):\n",
    "        return x + 10\n",
    "    \n",
    "print(hello.calc(10))"
   ]
  },
  {
   "cell_type": "code",
   "execution_count": 2,
   "metadata": {},
   "outputs": [
    {
     "name": "stdout",
     "output_type": "stream",
     "text": [
      "20\n"
     ]
    }
   ],
   "source": [
    "# classmethod\n",
    "class hello:\n",
    "    num = 10\n",
    "    \n",
    "    @classmethod\n",
    "    def calc(cls, x):\n",
    "        return x + 10\n",
    "    \n",
    "print(hello.calc(10))"
   ]
  },
  {
   "cell_type": "markdown",
   "metadata": {},
   "source": [
    "## if) hello 클래스의 num에 접근하려면?"
   ]
  },
  {
   "cell_type": "code",
   "execution_count": 3,
   "metadata": {},
   "outputs": [
    {
     "name": "stdout",
     "output_type": "stream",
     "text": [
      "30\n"
     ]
    }
   ],
   "source": [
    "#staticmethod\n",
    "\n",
    "class hello:\n",
    "    num = 10\n",
    "    \n",
    "    @staticmethod\n",
    "    def calc(x):\n",
    "        return x + 10 + hello.num\n",
    "    \n",
    "print(hello.calc(10))"
   ]
  },
  {
   "cell_type": "code",
   "execution_count": 4,
   "metadata": {},
   "outputs": [
    {
     "name": "stdout",
     "output_type": "stream",
     "text": [
      "30\n"
     ]
    }
   ],
   "source": [
    "#classmethod\n",
    "\n",
    "class hello:\n",
    "    num = 10\n",
    "    \n",
    "    @classmethod \n",
    "    def calc(cls, x): #cls: 클래스를 가리키는 변수\n",
    "        return x + 10 + cls.num\n",
    "    \n",
    "print(hello.calc(10))"
   ]
  },
  {
   "cell_type": "markdown",
   "metadata": {},
   "source": [
    "## Q. 상속 관계일때, cls를 가리키는 클래스는?"
   ]
  },
  {
   "cell_type": "code",
   "execution_count": 9,
   "metadata": {},
   "outputs": [],
   "source": [
    "class hello:\n",
    "    t = '내가 상속해 줬어!'\n",
    "    \n",
    "    @classmethod\n",
    "    def calc(cls):\n",
    "        return cls.t"
   ]
  },
  {
   "cell_type": "code",
   "execution_count": 10,
   "metadata": {},
   "outputs": [
    {
     "name": "stdout",
     "output_type": "stream",
     "text": [
      "나는 상속을 받았어!\n"
     ]
    }
   ],
   "source": [
    "class hello_2(hello):\n",
    "    t = '나는 상속을 받았어!'\n",
    "    \n",
    "print(hello_2.calc())"
   ]
  }
 ],
 "metadata": {
  "kernelspec": {
   "display_name": "Python 3",
   "language": "python",
   "name": "python3"
  },
  "language_info": {
   "codemirror_mode": {
    "name": "ipython",
    "version": 3
   },
   "file_extension": ".py",
   "mimetype": "text/x-python",
   "name": "python",
   "nbconvert_exporter": "python",
   "pygments_lexer": "ipython3",
   "version": "3.7.4"
  }
 },
 "nbformat": 4,
 "nbformat_minor": 2
}
