{
 "cells": [
  {
   "cell_type": "code",
   "execution_count": 10,
   "metadata": {},
   "outputs": [
    {
     "name": "stdout",
     "output_type": "stream",
     "text": [
      "1.15초 걸렸습니다.\n"
     ]
    }
   ],
   "source": [
    "import nest_asyncio\n",
    "import requests\n",
    "import asyncio\n",
    "from bs4 import BeautifulSoup\n",
    "import pandas as pd\n",
    "import time\n",
    "\n",
    "nest_asyncio.apply()\n",
    "s = time.time()\n",
    "results = []\n",
    "\n",
    "#---------------------------------------A파트-----------------------------------------------------------------------(세번째 실행)\n",
    "async def getpage(url):\n",
    "    req = await loop.run_in_executor(None, requests.get, url)\n",
    "    html = req.text\n",
    "    soup = await loop.run_in_executor(None, BeautifulSoup, html, 'lxml')\n",
    "    \n",
    "    return soup\n",
    "\n",
    "#------------------------------------B파트--------------------------------------------------------------------------(두번째 실행)\n",
    "async def main():\n",
    "    urls = [\"https://wp.me/p9x2W1-x\",\n",
    "            \"https://wp.me/p9x2W1-w\",\n",
    "            \"https://wp.me/p9x2W1-t\",\n",
    "            \"https://wp.me/p9x2W1-q\",\n",
    "            \"https://wp.me/p9x2W1-p\",\n",
    "            \"https://wp.me/p9x2W1-j\",\n",
    "            \"https://wp.me/p9x2W1-h\"]\n",
    "    \n",
    "    fts = [asyncio.ensure_future(getpage(u)) for u in urls]\n",
    "    r = await asyncio.gather(*fts)\n",
    "    global results\n",
    "    results = r\n",
    "\n",
    "#------------------------------------C파트---------------------------------------------------------------------------(세번째 실행)\n",
    "loop = asyncio.get_event_loop()\n",
    "loop.run_until_complete(main())\n",
    "loop.close\n",
    "e = time.time()\n",
    "\n",
    "data = pd.DataFrame(results)\n",
    "data.to_csv('blogcraling_result.csv')\n",
    "print(\"{0:.2f}초 걸렸습니다.\".format(e - s))"
   ]
  },
  {
   "cell_type": "code",
   "execution_count": 11,
   "metadata": {},
   "outputs": [
    {
     "data": {
      "text/html": [
       "<div>\n",
       "<style scoped>\n",
       "    .dataframe tbody tr th:only-of-type {\n",
       "        vertical-align: middle;\n",
       "    }\n",
       "\n",
       "    .dataframe tbody tr th {\n",
       "        vertical-align: top;\n",
       "    }\n",
       "\n",
       "    .dataframe thead th {\n",
       "        text-align: right;\n",
       "    }\n",
       "</style>\n",
       "<table border=\"1\" class=\"dataframe\">\n",
       "  <thead>\n",
       "    <tr style=\"text-align: right;\">\n",
       "      <th></th>\n",
       "      <th>0</th>\n",
       "    </tr>\n",
       "  </thead>\n",
       "  <tbody>\n",
       "    <tr>\n",
       "      <th>0</th>\n",
       "      <td>[html, [\\n, [\\n, &lt;meta charset=\"utf-8\"/&gt;, \\n, ...</td>\n",
       "    </tr>\n",
       "    <tr>\n",
       "      <th>1</th>\n",
       "      <td>[html, [\\n, [\\n, &lt;meta charset=\"utf-8\"/&gt;, \\n, ...</td>\n",
       "    </tr>\n",
       "    <tr>\n",
       "      <th>2</th>\n",
       "      <td>[html, [\\n, [\\n, &lt;meta charset=\"utf-8\"/&gt;, \\n, ...</td>\n",
       "    </tr>\n",
       "    <tr>\n",
       "      <th>3</th>\n",
       "      <td>[html, [\\n, [\\n, &lt;meta charset=\"utf-8\"/&gt;, \\n, ...</td>\n",
       "    </tr>\n",
       "    <tr>\n",
       "      <th>4</th>\n",
       "      <td>[html, [\\n, [\\n, &lt;meta charset=\"utf-8\"/&gt;, \\n, ...</td>\n",
       "    </tr>\n",
       "  </tbody>\n",
       "</table>\n",
       "</div>"
      ],
      "text/plain": [
       "                                                   0\n",
       "0  [html, [\\n, [\\n, <meta charset=\"utf-8\"/>, \\n, ...\n",
       "1  [html, [\\n, [\\n, <meta charset=\"utf-8\"/>, \\n, ...\n",
       "2  [html, [\\n, [\\n, <meta charset=\"utf-8\"/>, \\n, ...\n",
       "3  [html, [\\n, [\\n, <meta charset=\"utf-8\"/>, \\n, ...\n",
       "4  [html, [\\n, [\\n, <meta charset=\"utf-8\"/>, \\n, ..."
      ]
     },
     "execution_count": 11,
     "metadata": {},
     "output_type": "execute_result"
    }
   ],
   "source": [
    "data.head()"
   ]
  },
  {
   "cell_type": "code",
   "execution_count": null,
   "metadata": {},
   "outputs": [],
   "source": []
  }
 ],
 "metadata": {
  "kernelspec": {
   "display_name": "Python 3",
   "language": "python",
   "name": "python3"
  },
  "language_info": {
   "codemirror_mode": {
    "name": "ipython",
    "version": 3
   },
   "file_extension": ".py",
   "mimetype": "text/x-python",
   "name": "python",
   "nbconvert_exporter": "python",
   "pygments_lexer": "ipython3",
   "version": "3.7.4"
  }
 },
 "nbformat": 4,
 "nbformat_minor": 2
}
