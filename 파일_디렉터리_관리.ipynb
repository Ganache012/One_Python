{
 "cells": [
  {
   "cell_type": "code",
   "execution_count": 2,
   "metadata": {},
   "outputs": [
    {
     "name": "stdout",
     "output_type": "stream",
     "text": [
      "/workspace/Onepython\n",
      "['Package_만들기.ipynb', 'XML_만들기.ipynb', 'memory.ipynb', 'Inheritance(상속).ipynb', 'hello', 'goorm.manifest', 'Abstract(추상메서드).ipynb', 'MetaClass.ipynb', 'assert.ipynb', 'what.py', 'class.ipynb', 'test.json', '.ipynb_checkpoints', '파일_디렉터리_관리.ipynb', '예외처리.ipynb', 'json_만들기.ipynb', 'data.xml', 'Static_Method.ipynb']\n"
     ]
    }
   ],
   "source": [
    "# 어떤 디렉터리의 경로를 알아내고,\n",
    "# 디렉터리 안의 파일 및 디렉터리 목록 가져오기\n",
    "import os\n",
    "print(os.getcwd())\n",
    "print(os.listdir('/workspace/Onepython'))"
   ]
  },
  {
   "cell_type": "code",
   "execution_count": 3,
   "metadata": {},
   "outputs": [
    {
     "data": {
      "text/plain": [
       "['./what.py']"
      ]
     },
     "execution_count": 3,
     "metadata": {},
     "output_type": "execute_result"
    }
   ],
   "source": [
    "# 특정 확장자 파일을 보고싶은 경우\n",
    "import glob\n",
    "glob.glob('./*.py')"
   ]
  },
  {
   "cell_type": "code",
   "execution_count": 4,
   "metadata": {},
   "outputs": [
    {
     "name": "stdout",
     "output_type": "stream",
     "text": [
      "['Package_만들기.ipynb', 'XML_만들기.ipynb', 'memory.ipynb', 'Inheritance(상속).ipynb', 'goorm.manifest', 'Abstract(추상메서드).ipynb', 'MetaClass.ipynb', 'assert.ipynb', 'what.py', 'class.ipynb', 'test.json', '파일_디렉터리_관리.ipynb', '예외처리.ipynb', 'json_만들기.ipynb', 'data.xml', 'Static_Method.ipynb']\n",
      "['morning.py']\n",
      "['morning.cpython-37.pyc']\n",
      "[]\n",
      "['Package_만들기-checkpoint.ipynb', 'json_만들기-checkpoint.ipynb', 'Abstract(추상메서드)-checkpoint.ipynb', 'Static_Method-checkpoint.ipynb', '예외처리-checkpoint.ipynb', 'assert-checkpoint.ipynb', 'class-checkpoint.ipynb', 'MetaClass-checkpoint.ipynb', 'memory-checkpoint.ipynb', 'XML_만들기-checkpoint.ipynb', '파일_디렉터리_관리-checkpoint.ipynb', 'Inheritance(상속)-checkpoint.ipynb']\n"
     ]
    }
   ],
   "source": [
    "for root, dirs, files in os.walk(os.getcwd()):\n",
    "    print(files)"
   ]
  },
  {
   "cell_type": "code",
   "execution_count": 6,
   "metadata": {},
   "outputs": [
    {
     "name": "stdout",
     "output_type": "stream",
     "text": [
      "what.py\n",
      "morning.py\n"
     ]
    }
   ],
   "source": [
    "for root, dir, files in os.walk(os.getcwd()):\n",
    "    for f in files:\n",
    "        a = os.path.splitext(f)[-1]\n",
    "        if a == '.py':\n",
    "            print(f)"
   ]
  },
  {
   "cell_type": "code",
   "execution_count": 7,
   "metadata": {},
   "outputs": [
    {
     "name": "stdout",
     "output_type": "stream",
     "text": [
      "True\n",
      "False\n"
     ]
    }
   ],
   "source": [
    "# 파일 혹은 디렉터리 있는지 검사하기\n",
    "print(os.path.exists('/workspace/Onepython'))\n",
    "print(os.path.exists('/workspce/Onepython/hello/what.py'))"
   ]
  },
  {
   "cell_type": "code",
   "execution_count": 8,
   "metadata": {},
   "outputs": [
    {
     "name": "stdout",
     "output_type": "stream",
     "text": [
      "True\n",
      "True\n",
      "False\n"
     ]
    }
   ],
   "source": [
    "# 디렉터리만 검사\n",
    "print(os.path.isdir('/workspace/Onepython'))\n",
    "\n",
    "#파일만 검사\n",
    "print(os.path.isfile('/workspace/Onepython/what.py'))\n",
    "print(os.path.isfile('/workspace/Onepython/hello/what.py'))"
   ]
  },
  {
   "cell_type": "markdown",
   "metadata": {},
   "source": [
    "### 파일, 디렉터리 복사, 이동, 삭제하기"
   ]
  },
  {
   "cell_type": "code",
   "execution_count": 9,
   "metadata": {},
   "outputs": [
    {
     "data": {
      "text/plain": [
       "'copied_data.xml'"
      ]
     },
     "execution_count": 9,
     "metadata": {},
     "output_type": "execute_result"
    }
   ],
   "source": [
    "# 복사하기(파일)\n",
    "import shutil\n",
    "\n",
    "shutil.copy(\"data.xml\", \"copied_data.xml\")"
   ]
  },
  {
   "cell_type": "code",
   "execution_count": 10,
   "metadata": {},
   "outputs": [
    {
     "data": {
      "text/plain": [
       "'copied_hello'"
      ]
     },
     "execution_count": 10,
     "metadata": {},
     "output_type": "execute_result"
    }
   ],
   "source": [
    "# 복사하기(디렉터리)\n",
    "import shutil\n",
    "\n",
    "shutil.copytree(\"hello\", \"copied_hello\")"
   ]
  },
  {
   "cell_type": "code",
   "execution_count": 11,
   "metadata": {},
   "outputs": [
    {
     "data": {
      "text/plain": [
       "'moved_data.xml'"
      ]
     },
     "execution_count": 11,
     "metadata": {},
     "output_type": "execute_result"
    }
   ],
   "source": [
    "# 이동하기(파일, 디렉터리)\n",
    "import shutil\n",
    "\n",
    "shutil.move(\"copied_data.xml\",\"moved_data.xml\")"
   ]
  },
  {
   "cell_type": "code",
   "execution_count": 12,
   "metadata": {},
   "outputs": [],
   "source": [
    "# 삭제하기(디렉터리)\n",
    "import shutil\n",
    "shutil.rmtree('copied_hello')"
   ]
  },
  {
   "cell_type": "code",
   "execution_count": 14,
   "metadata": {},
   "outputs": [],
   "source": [
    "#삭제하기(파일)\n",
    "import os\n",
    "os.remove('moved_data.xml')"
   ]
  },
  {
   "cell_type": "code",
   "execution_count": 15,
   "metadata": {},
   "outputs": [
    {
     "data": {
      "text/plain": [
       "199"
      ]
     },
     "execution_count": 15,
     "metadata": {},
     "output_type": "execute_result"
    }
   ],
   "source": [
    "# 파일 크기 알아내기\n",
    "os.path.getsize('/workspace/Onepython/what.py')"
   ]
  },
  {
   "cell_type": "markdown",
   "metadata": {},
   "source": [
    "### 파일 생성, 삭제 감시하기\n",
    "- watchdog 패키지\n",
    "- 감시 부터 이벤트 처리까지의 기본 템플릿"
   ]
  },
  {
   "cell_type": "code",
   "execution_count": null,
   "metadata": {},
   "outputs": [],
   "source": [
    "import os\n",
    "import time\n",
    "from watchdog.observers import Observer\n",
    "from watchdog.events import FileSystemEventHandler\n",
    "\n",
    "class Target:\n",
    "    watchDir = os.getcwd()\n",
    "    #watchDir 에서 감시하는 디렉토리를 명시한다.\n",
    "    \n",
    "    def __init__(self):\n",
    "        self.observer = Observer()\n",
    "        \n",
    "    def run(self):\n",
    "        event_handler = Handler()\n",
    "        self.observer.schedule(event_handler, self.watchDir, recursive = True)\n",
    "        self.observer.start()\n",
    "        try:\n",
    "            while True:\n",
    "                tiem.sleep(1)\n",
    "        except:\n",
    "            self.observer.stop()\n",
    "            print(\"Error\")\n",
    "            self.observer.join()\n",
    "                \n",
    "class Handler(FileSystemEventHandler):\n",
    "    #FileSystemEventHandler 클래스를 상속받음\n",
    "    #밑에 오버라이드\n",
    "    def on_moved(self, event):\n",
    "        print(event)\n",
    "    def on_created(self, event):\n",
    "        print(event)\n",
    "    def on_deleted(self, event):\n",
    "        print(event)\n",
    "    def on_modified(self, event):\n",
    "        print(event)\n",
    "        \n",
    "if __name__ == '__main__':\n",
    "    w = Target()\n",
    "    w.run()\n",
    "                "
   ]
  }
 ],
 "metadata": {
  "kernelspec": {
   "display_name": "Python 3",
   "language": "python",
   "name": "python3"
  },
  "language_info": {
   "codemirror_mode": {
    "name": "ipython",
    "version": 3
   },
   "file_extension": ".py",
   "mimetype": "text/x-python",
   "name": "python",
   "nbconvert_exporter": "python",
   "pygments_lexer": "ipython3",
   "version": "3.7.4"
  }
 },
 "nbformat": 4,
 "nbformat_minor": 2
}
