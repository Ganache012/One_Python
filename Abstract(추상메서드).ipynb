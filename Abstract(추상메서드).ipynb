{
 "cells": [
  {
   "cell_type": "code",
   "execution_count": 4,
   "metadata": {},
   "outputs": [
    {
     "name": "stdout",
     "output_type": "stream",
     "text": [
      "turnning finish\n"
     ]
    }
   ],
   "source": [
    "class Car:\n",
    "    def turnnig(cls, horsepower):\n",
    "        raise NotImplementedError\n",
    "        \n",
    "class Sonaty(Car):\n",
    "    def turnning(self):\n",
    "        print(\"turnning finish\")\n",
    "        \n",
    "sonaty = Sonaty()\n",
    "sonaty.turnning()"
   ]
  },
  {
   "cell_type": "code",
   "execution_count": 8,
   "metadata": {},
   "outputs": [
    {
     "name": "stdout",
     "output_type": "stream",
     "text": [
      "turnning finish\n"
     ]
    }
   ],
   "source": [
    "import abc\n",
    "\n",
    "class Car:\n",
    "    @abc.abstractmethod\n",
    "    def turnning(cls, horsepower):\n",
    "        pass\n",
    "    \n",
    "class Sonaty(Car):\n",
    "    def turnning(self):\n",
    "        print(\"turnning finish\")\n",
    "        \n",
    "sonaty = Sonaty()\n",
    "sonaty.turnning()"
   ]
  }
 ],
 "metadata": {
  "kernelspec": {
   "display_name": "Python 3",
   "language": "python",
   "name": "python3"
  },
  "language_info": {
   "codemirror_mode": {
    "name": "ipython",
    "version": 3
   },
   "file_extension": ".py",
   "mimetype": "text/x-python",
   "name": "python",
   "nbconvert_exporter": "python",
   "pygments_lexer": "ipython3",
   "version": "3.7.4"
  }
 },
 "nbformat": 4,
 "nbformat_minor": 2
}
