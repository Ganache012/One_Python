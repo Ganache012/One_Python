{
 "cells": [
  {
   "cell_type": "markdown",
   "metadata": {},
   "source": [
    "## 클래스 만들기"
   ]
  },
  {
   "cell_type": "code",
   "execution_count": 2,
   "metadata": {},
   "outputs": [
    {
     "name": "stdout",
     "output_type": "stream",
     "text": [
      "solid\n",
      "서울로 운전 중입니다.\n"
     ]
    }
   ],
   "source": [
    "class temp:\n",
    "    a = None\n",
    "    \n",
    "    def __init__(self, str):\n",
    "        self.a = str\n",
    "        \n",
    "    def driving(self, str):\n",
    "        print(\"%s로 운전 중입니다.\"%(str))\n",
    "        \n",
    "tory = temp(\"solid\")\n",
    "print(tory.a)\n",
    "tory.driving(\"서울\")"
   ]
  },
  {
   "cell_type": "code",
   "execution_count": 3,
   "metadata": {},
   "outputs": [],
   "source": [
    "# 인스턴스가 생성된다는 것은 class에 bound 된다.\n",
    "\n",
    "class Car:\n",
    "    def __init__(self, num):\n",
    "        self.horpower = num\n",
    "        \n",
    "    def get_horsepower(self):\n",
    "        return self.horpower"
   ]
  },
  {
   "cell_type": "code",
   "execution_count": 4,
   "metadata": {},
   "outputs": [
    {
     "name": "stdout",
     "output_type": "stream",
     "text": [
      "<function Car.get_horsepower at 0x7ff77c5a19e0>\n"
     ]
    }
   ],
   "source": [
    "print(Car.get_horsepower)"
   ]
  },
  {
   "cell_type": "code",
   "execution_count": 5,
   "metadata": {},
   "outputs": [
    {
     "ename": "TypeError",
     "evalue": "get_horsepower() missing 1 required positional argument: 'self'",
     "output_type": "error",
     "traceback": [
      "\u001b[0;31m---------------------------------------------------------------------------\u001b[0m",
      "\u001b[0;31mTypeError\u001b[0m                                 Traceback (most recent call last)",
      "\u001b[0;32m<ipython-input-5-ed91988e5daf>\u001b[0m in \u001b[0;36m<module>\u001b[0;34m\u001b[0m\n\u001b[0;32m----> 1\u001b[0;31m \u001b[0mprint\u001b[0m\u001b[0;34m(\u001b[0m\u001b[0mCar\u001b[0m\u001b[0;34m.\u001b[0m\u001b[0mget_horsepower\u001b[0m\u001b[0;34m(\u001b[0m\u001b[0;34m)\u001b[0m\u001b[0;34m)\u001b[0m\u001b[0;34m\u001b[0m\u001b[0;34m\u001b[0m\u001b[0m\n\u001b[0m",
      "\u001b[0;31mTypeError\u001b[0m: get_horsepower() missing 1 required positional argument: 'self'"
     ]
    }
   ],
   "source": [
    "# 오류: get_horsepower에서 요구하는 인자 인스턴스가 전달 x\n",
    "print(Car.get_horsepower())"
   ]
  },
  {
   "cell_type": "code",
   "execution_count": 7,
   "metadata": {},
   "outputs": [
    {
     "name": "stdout",
     "output_type": "stream",
     "text": [
      "120\n"
     ]
    }
   ],
   "source": [
    "print(Car.get_horsepower(Car(120)))"
   ]
  },
  {
   "cell_type": "code",
   "execution_count": 8,
   "metadata": {},
   "outputs": [
    {
     "name": "stdout",
     "output_type": "stream",
     "text": [
      "120\n"
     ]
    }
   ],
   "source": [
    "print(Car(120).get_horsepower())"
   ]
  },
  {
   "cell_type": "code",
   "execution_count": 9,
   "metadata": {},
   "outputs": [
    {
     "name": "stdout",
     "output_type": "stream",
     "text": [
      "<bound method Car.get_horsepower of <__main__.Car object at 0x7ff77c5a70d0>>\n"
     ]
    }
   ],
   "source": [
    "# bound된 메서드임을 확인\n",
    "print(Car(120).get_horsepower)"
   ]
  },
  {
   "cell_type": "code",
   "execution_count": 10,
   "metadata": {},
   "outputs": [
    {
     "data": {
      "text/plain": [
       "'HELLO'"
      ]
     },
     "execution_count": 10,
     "metadata": {},
     "output_type": "execute_result"
    }
   ],
   "source": [
    "s = 'hello'\n",
    "s.upper()\n",
    "str.upper(s)"
   ]
  },
  {
   "cell_type": "code",
   "execution_count": 12,
   "metadata": {},
   "outputs": [
    {
     "name": "stdout",
     "output_type": "stream",
     "text": [
      "120\n",
      "HELLO\n"
     ]
    }
   ],
   "source": [
    "# 한번 bound되면 get_horsepower에 인자를 전달하지 않아도 자동 전달됨\n",
    "a = Car(120).get_horsepower\n",
    "print(a())\n",
    "\n",
    "b = str(s).upper\n",
    "print(b())"
   ]
  },
  {
   "cell_type": "code",
   "execution_count": null,
   "metadata": {},
   "outputs": [],
   "source": []
  }
 ],
 "metadata": {
  "kernelspec": {
   "display_name": "Python 3",
   "language": "python",
   "name": "python3"
  },
  "language_info": {
   "codemirror_mode": {
    "name": "ipython",
    "version": 3
   },
   "file_extension": ".py",
   "mimetype": "text/x-python",
   "name": "python",
   "nbconvert_exporter": "python",
   "pygments_lexer": "ipython3",
   "version": "3.7.4"
  }
 },
 "nbformat": 4,
 "nbformat_minor": 2
}
